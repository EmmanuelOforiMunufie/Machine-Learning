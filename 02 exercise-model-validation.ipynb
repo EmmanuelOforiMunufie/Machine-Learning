{
 "cells": [
  {
   "cell_type": "markdown",
   "id": "8d5ca806",
   "metadata": {
    "papermill": {
     "duration": 0.007101,
     "end_time": "2022-09-13T22:10:29.293907",
     "exception": false,
     "start_time": "2022-09-13T22:10:29.286806",
     "status": "completed"
    },
    "tags": []
   },
   "source": [
    "**This notebook is an exercise in the [Introduction to Machine Learning](https://www.kaggle.com/learn/intro-to-machine-learning) course.  You can reference the tutorial at [this link](https://www.kaggle.com/dansbecker/model-validation).**\n",
    "\n",
    "---\n"
   ]
  },
  {
   "cell_type": "markdown",
   "id": "64a3a6a8",
   "metadata": {
    "papermill": {
     "duration": 0.00431,
     "end_time": "2022-09-13T22:10:29.303362",
     "exception": false,
     "start_time": "2022-09-13T22:10:29.299052",
     "status": "completed"
    },
    "tags": []
   },
   "source": [
    "## Recap\n",
    "You've built a model. In this exercise you will test how good your model is.\n",
    "\n",
    "Run the cell below to set up your coding environment where the previous exercise left off."
   ]
  },
  {
   "cell_type": "markdown",
   "id": "02ccfd49",
   "metadata": {
    "papermill": {
     "duration": 0.00424,
     "end_time": "2022-09-13T22:10:29.312176",
     "exception": false,
     "start_time": "2022-09-13T22:10:29.307936",
     "status": "completed"
    },
    "tags": []
   },
   "source": []
  },
  {
   "cell_type": "code",
   "execution_count": 1,
   "id": "ac593d15",
   "metadata": {
    "execution": {
     "iopub.execute_input": "2022-09-13T22:10:29.323110Z",
     "iopub.status.busy": "2022-09-13T22:10:29.322645Z",
     "iopub.status.idle": "2022-09-13T22:10:30.735819Z",
     "shell.execute_reply": "2022-09-13T22:10:30.733993Z"
    },
    "papermill": {
     "duration": 1.422583,
     "end_time": "2022-09-13T22:10:30.739283",
     "exception": false,
     "start_time": "2022-09-13T22:10:29.316700",
     "status": "completed"
    },
    "tags": []
   },
   "outputs": [
    {
     "name": "stdout",
     "output_type": "stream",
     "text": [
      "First in-sample predictions: [208500. 181500. 223500. 140000. 250000.]\n",
      "Actual target values for those homes: [208500, 181500, 223500, 140000, 250000]\n",
      "Setup Complete\n"
     ]
    }
   ],
   "source": [
    "# Code you have previously used to load data\n",
    "import pandas as pd\n",
    "from sklearn.tree import DecisionTreeRegressor\n",
    "\n",
    "# Path of the file to read\n",
    "iowa_file_path = '../input/home-data-for-ml-course/train.csv'\n",
    "\n",
    "home_data = pd.read_csv(iowa_file_path)\n",
    "y = home_data.SalePrice\n",
    "feature_columns = ['LotArea', 'YearBuilt', '1stFlrSF', '2ndFlrSF', 'FullBath', 'BedroomAbvGr', 'TotRmsAbvGrd']\n",
    "X = home_data[feature_columns]\n",
    "\n",
    "# Specify Model\n",
    "iowa_model = DecisionTreeRegressor()\n",
    "# Fit Model\n",
    "iowa_model.fit(X, y)\n",
    "\n",
    "print(\"First in-sample predictions:\", iowa_model.predict(X.head()))\n",
    "print(\"Actual target values for those homes:\", y.head().tolist())\n",
    "\n",
    "# Set up code checking\n",
    "from learntools.core import binder\n",
    "binder.bind(globals())\n",
    "from learntools.machine_learning.ex4 import *\n",
    "print(\"Setup Complete\")"
   ]
  },
  {
   "cell_type": "markdown",
   "id": "54b76c22",
   "metadata": {
    "papermill": {
     "duration": 0.004787,
     "end_time": "2022-09-13T22:10:30.749804",
     "exception": false,
     "start_time": "2022-09-13T22:10:30.745017",
     "status": "completed"
    },
    "tags": []
   },
   "source": [
    "# Exercises\n",
    "\n",
    "## Step 1: Split Your Data\n",
    "Use the `train_test_split` function to split up your data.\n",
    "\n",
    "Give it the argument `random_state=1` so the `check` functions know what to expect when verifying your code.\n",
    "\n",
    "Recall, your features are loaded in the DataFrame **X** and your target is loaded in **y**.\n"
   ]
  },
  {
   "cell_type": "code",
   "execution_count": 2,
   "id": "583cc7c5",
   "metadata": {
    "execution": {
     "iopub.execute_input": "2022-09-13T22:10:30.762203Z",
     "iopub.status.busy": "2022-09-13T22:10:30.761475Z",
     "iopub.status.idle": "2022-09-13T22:10:30.782678Z",
     "shell.execute_reply": "2022-09-13T22:10:30.780661Z"
    },
    "papermill": {
     "duration": 0.030052,
     "end_time": "2022-09-13T22:10:30.785194",
     "exception": false,
     "start_time": "2022-09-13T22:10:30.755142",
     "status": "completed"
    },
    "tags": []
   },
   "outputs": [
    {
     "data": {
      "application/javascript": [
       "parent.postMessage({\"jupyterEvent\": \"custom.exercise_interaction\", \"data\": {\"outcomeType\": 1, \"valueTowardsCompletion\": 0.25, \"interactionType\": 1, \"questionType\": 2, \"questionId\": \"1_SplitData\", \"learnToolsVersion\": \"0.3.4\", \"failureMessage\": \"\", \"exceptionClass\": \"\", \"trace\": \"\"}}, \"*\")"
      ],
      "text/plain": [
       "<IPython.core.display.Javascript object>"
      ]
     },
     "metadata": {},
     "output_type": "display_data"
    },
    {
     "data": {
      "text/markdown": [
       "<span style=\"color:#33cc33\">Correct</span>"
      ],
      "text/plain": [
       "Correct"
      ]
     },
     "metadata": {},
     "output_type": "display_data"
    }
   ],
   "source": [
    "# Import the train_test_split function and uncomment\n",
    "from sklearn.model_selection import train_test_split\n",
    "\n",
    "# fill in and uncomment\n",
    "train_X, val_X, train_y, val_y = train_test_split(X,y,random_state = 1)\n",
    "\n",
    "# Check your answer\n",
    "step_1.check()"
   ]
  },
  {
   "cell_type": "code",
   "execution_count": 3,
   "id": "e57e5004",
   "metadata": {
    "execution": {
     "iopub.execute_input": "2022-09-13T22:10:30.800206Z",
     "iopub.status.busy": "2022-09-13T22:10:30.798977Z",
     "iopub.status.idle": "2022-09-13T22:10:30.814436Z",
     "shell.execute_reply": "2022-09-13T22:10:30.813549Z"
    },
    "papermill": {
     "duration": 0.025162,
     "end_time": "2022-09-13T22:10:30.817120",
     "exception": false,
     "start_time": "2022-09-13T22:10:30.791958",
     "status": "completed"
    },
    "tags": []
   },
   "outputs": [
    {
     "data": {
      "application/javascript": [
       "parent.postMessage({\"jupyterEvent\": \"custom.exercise_interaction\", \"data\": {\"interactionType\": 2, \"questionType\": 2, \"questionId\": \"1_SplitData\", \"learnToolsVersion\": \"0.3.4\", \"valueTowardsCompletion\": 0.0, \"failureMessage\": \"\", \"exceptionClass\": \"\", \"trace\": \"\", \"outcomeType\": 4}}, \"*\")"
      ],
      "text/plain": [
       "<IPython.core.display.Javascript object>"
      ]
     },
     "metadata": {},
     "output_type": "display_data"
    },
    {
     "data": {
      "text/markdown": [
       "<span style=\"color:#3366cc\">Hint:</span> The function you need to import is part of sklearn. When calling the function, the arguments are X and y. Ensure you set the random_state to 1."
      ],
      "text/plain": [
       "Hint: The function you need to import is part of sklearn. When calling the function, the arguments are X and y. Ensure you set the random_state to 1."
      ]
     },
     "metadata": {},
     "output_type": "display_data"
    },
    {
     "data": {
      "application/javascript": [
       "parent.postMessage({\"jupyterEvent\": \"custom.exercise_interaction\", \"data\": {\"interactionType\": 3, \"questionType\": 2, \"questionId\": \"1_SplitData\", \"learnToolsVersion\": \"0.3.4\", \"valueTowardsCompletion\": 0.0, \"failureMessage\": \"\", \"exceptionClass\": \"\", \"trace\": \"\", \"outcomeType\": 4}}, \"*\")"
      ],
      "text/plain": [
       "<IPython.core.display.Javascript object>"
      ]
     },
     "metadata": {},
     "output_type": "display_data"
    },
    {
     "data": {
      "text/markdown": [
       "<span style=\"color:#33cc99\">Solution:</span> \n",
       "```python\n",
       "from sklearn.model_selection import train_test_split\n",
       "train_X, val_X, train_y, val_y = train_test_split(X, y, random_state=1)\n",
       "```"
      ],
      "text/plain": [
       "Solution: \n",
       "```python\n",
       "from sklearn.model_selection import train_test_split\n",
       "train_X, val_X, train_y, val_y = train_test_split(X, y, random_state=1)\n",
       "```"
      ]
     },
     "metadata": {},
     "output_type": "display_data"
    }
   ],
   "source": [
    "# The lines below will show you a hint or the solution.\n",
    "step_1.hint() \n",
    "step_1.solution()\n"
   ]
  },
  {
   "cell_type": "markdown",
   "id": "f783a05f",
   "metadata": {
    "papermill": {
     "duration": 0.007172,
     "end_time": "2022-09-13T22:10:30.831880",
     "exception": false,
     "start_time": "2022-09-13T22:10:30.824708",
     "status": "completed"
    },
    "tags": []
   },
   "source": [
    "## Step 2: Specify and Fit the Model\n",
    "\n",
    "Create a `DecisionTreeRegressor` model and fit it to the relevant data.\n",
    "Set `random_state` to 1 again when creating the model."
   ]
  },
  {
   "cell_type": "code",
   "execution_count": 4,
   "id": "fb3c14e4",
   "metadata": {
    "execution": {
     "iopub.execute_input": "2022-09-13T22:10:30.845391Z",
     "iopub.status.busy": "2022-09-13T22:10:30.844715Z",
     "iopub.status.idle": "2022-09-13T22:10:30.873193Z",
     "shell.execute_reply": "2022-09-13T22:10:30.872003Z"
    },
    "papermill": {
     "duration": 0.038451,
     "end_time": "2022-09-13T22:10:30.876105",
     "exception": false,
     "start_time": "2022-09-13T22:10:30.837654",
     "status": "completed"
    },
    "tags": []
   },
   "outputs": [
    {
     "name": "stdout",
     "output_type": "stream",
     "text": [
      "[186500. 184000. 130000.  92000. 164500. 220000. 335000. 144152. 215000.\n",
      " 262000.]\n",
      "[186500. 184000. 130000.  92000. 164500. 220000. 335000. 144152. 215000.\n",
      " 262000.]\n"
     ]
    },
    {
     "data": {
      "application/javascript": [
       "parent.postMessage({\"jupyterEvent\": \"custom.exercise_interaction\", \"data\": {\"outcomeType\": 1, \"valueTowardsCompletion\": 0.25, \"interactionType\": 1, \"questionType\": 2, \"questionId\": \"2_FitModelWithTrain\", \"learnToolsVersion\": \"0.3.4\", \"failureMessage\": \"\", \"exceptionClass\": \"\", \"trace\": \"\"}}, \"*\")"
      ],
      "text/plain": [
       "<IPython.core.display.Javascript object>"
      ]
     },
     "metadata": {},
     "output_type": "display_data"
    },
    {
     "data": {
      "text/markdown": [
       "<span style=\"color:#33cc33\">Correct</span>"
      ],
      "text/plain": [
       "Correct"
      ]
     },
     "metadata": {},
     "output_type": "display_data"
    }
   ],
   "source": [
    "# You imported DecisionTreeRegressor in your last exercise\n",
    "# and that code has been copied to the setup code above. So, no need to\n",
    "# import it again\n",
    "\n",
    "# Specify the model\n",
    "iowa_model = DecisionTreeRegressor(random_state = 1)\n",
    "\n",
    "# Fit iowa_model with the training data.\n",
    "iowa_model.fit(train_X,train_y)\n",
    "\n",
    "# Check your answer\n",
    "step_2.check()"
   ]
  },
  {
   "cell_type": "code",
   "execution_count": 5,
   "id": "849e2d33",
   "metadata": {
    "execution": {
     "iopub.execute_input": "2022-09-13T22:10:30.890136Z",
     "iopub.status.busy": "2022-09-13T22:10:30.889069Z",
     "iopub.status.idle": "2022-09-13T22:10:30.901918Z",
     "shell.execute_reply": "2022-09-13T22:10:30.900763Z"
    },
    "papermill": {
     "duration": 0.022049,
     "end_time": "2022-09-13T22:10:30.904000",
     "exception": false,
     "start_time": "2022-09-13T22:10:30.881951",
     "status": "completed"
    },
    "tags": []
   },
   "outputs": [
    {
     "data": {
      "application/javascript": [
       "parent.postMessage({\"jupyterEvent\": \"custom.exercise_interaction\", \"data\": {\"interactionType\": 2, \"questionType\": 2, \"questionId\": \"2_FitModelWithTrain\", \"learnToolsVersion\": \"0.3.4\", \"valueTowardsCompletion\": 0.0, \"failureMessage\": \"\", \"exceptionClass\": \"\", \"trace\": \"\", \"outcomeType\": 4}}, \"*\")"
      ],
      "text/plain": [
       "<IPython.core.display.Javascript object>"
      ]
     },
     "metadata": {},
     "output_type": "display_data"
    },
    {
     "data": {
      "text/markdown": [
       "<span style=\"color:#3366cc\">Hint:</span> Remember, you fit with training data. You will test with validation data soon"
      ],
      "text/plain": [
       "Hint: Remember, you fit with training data. You will test with validation data soon"
      ]
     },
     "metadata": {},
     "output_type": "display_data"
    },
    {
     "data": {
      "application/javascript": [
       "parent.postMessage({\"jupyterEvent\": \"custom.exercise_interaction\", \"data\": {\"interactionType\": 3, \"questionType\": 2, \"questionId\": \"2_FitModelWithTrain\", \"learnToolsVersion\": \"0.3.4\", \"valueTowardsCompletion\": 0.0, \"failureMessage\": \"\", \"exceptionClass\": \"\", \"trace\": \"\", \"outcomeType\": 4}}, \"*\")"
      ],
      "text/plain": [
       "<IPython.core.display.Javascript object>"
      ]
     },
     "metadata": {},
     "output_type": "display_data"
    },
    {
     "data": {
      "text/markdown": [
       "<span style=\"color:#33cc99\">Solution:</span> \n",
       "```python\n",
       "iowa_model = DecisionTreeRegressor(random_state=1)\n",
       "iowa_model.fit(train_X, train_y)\n",
       "```"
      ],
      "text/plain": [
       "Solution: \n",
       "```python\n",
       "iowa_model = DecisionTreeRegressor(random_state=1)\n",
       "iowa_model.fit(train_X, train_y)\n",
       "```"
      ]
     },
     "metadata": {},
     "output_type": "display_data"
    }
   ],
   "source": [
    "step_2.hint()\n",
    "step_2.solution()"
   ]
  },
  {
   "cell_type": "markdown",
   "id": "f6b615c7",
   "metadata": {
    "papermill": {
     "duration": 0.006047,
     "end_time": "2022-09-13T22:10:30.916409",
     "exception": false,
     "start_time": "2022-09-13T22:10:30.910362",
     "status": "completed"
    },
    "tags": []
   },
   "source": [
    "## Step 3: Make Predictions with Validation data\n"
   ]
  },
  {
   "cell_type": "code",
   "execution_count": 6,
   "id": "8853f6d0",
   "metadata": {
    "execution": {
     "iopub.execute_input": "2022-09-13T22:10:30.930942Z",
     "iopub.status.busy": "2022-09-13T22:10:30.929997Z",
     "iopub.status.idle": "2022-09-13T22:10:30.942319Z",
     "shell.execute_reply": "2022-09-13T22:10:30.941222Z"
    },
    "papermill": {
     "duration": 0.021935,
     "end_time": "2022-09-13T22:10:30.944505",
     "exception": false,
     "start_time": "2022-09-13T22:10:30.922570",
     "status": "completed"
    },
    "tags": []
   },
   "outputs": [
    {
     "data": {
      "application/javascript": [
       "parent.postMessage({\"jupyterEvent\": \"custom.exercise_interaction\", \"data\": {\"outcomeType\": 1, \"valueTowardsCompletion\": 0.25, \"interactionType\": 1, \"questionType\": 2, \"questionId\": \"3_ValPreds\", \"learnToolsVersion\": \"0.3.4\", \"failureMessage\": \"\", \"exceptionClass\": \"\", \"trace\": \"\"}}, \"*\")"
      ],
      "text/plain": [
       "<IPython.core.display.Javascript object>"
      ]
     },
     "metadata": {},
     "output_type": "display_data"
    },
    {
     "data": {
      "text/markdown": [
       "<span style=\"color:#33cc33\">Correct</span>"
      ],
      "text/plain": [
       "Correct"
      ]
     },
     "metadata": {},
     "output_type": "display_data"
    }
   ],
   "source": [
    "# Predict with all validation observations\n",
    "val_predictions = iowa_model.predict(val_X)\n",
    "\n",
    "# Check your answer\n",
    "step_3.check()\n",
    "\n"
   ]
  },
  {
   "cell_type": "code",
   "execution_count": 7,
   "id": "1d2762a1",
   "metadata": {
    "execution": {
     "iopub.execute_input": "2022-09-13T22:10:30.959237Z",
     "iopub.status.busy": "2022-09-13T22:10:30.958451Z",
     "iopub.status.idle": "2022-09-13T22:10:30.971425Z",
     "shell.execute_reply": "2022-09-13T22:10:30.970546Z"
    },
    "papermill": {
     "duration": 0.022935,
     "end_time": "2022-09-13T22:10:30.973706",
     "exception": false,
     "start_time": "2022-09-13T22:10:30.950771",
     "status": "completed"
    },
    "tags": []
   },
   "outputs": [
    {
     "data": {
      "application/javascript": [
       "parent.postMessage({\"jupyterEvent\": \"custom.exercise_interaction\", \"data\": {\"interactionType\": 2, \"questionType\": 2, \"questionId\": \"3_ValPreds\", \"learnToolsVersion\": \"0.3.4\", \"valueTowardsCompletion\": 0.0, \"failureMessage\": \"\", \"exceptionClass\": \"\", \"trace\": \"\", \"outcomeType\": 4}}, \"*\")"
      ],
      "text/plain": [
       "<IPython.core.display.Javascript object>"
      ]
     },
     "metadata": {},
     "output_type": "display_data"
    },
    {
     "data": {
      "text/markdown": [
       "<span style=\"color:#3366cc\">Hint:</span> Run predict on the right validation data object."
      ],
      "text/plain": [
       "Hint: Run predict on the right validation data object."
      ]
     },
     "metadata": {},
     "output_type": "display_data"
    },
    {
     "data": {
      "application/javascript": [
       "parent.postMessage({\"jupyterEvent\": \"custom.exercise_interaction\", \"data\": {\"interactionType\": 3, \"questionType\": 2, \"questionId\": \"3_ValPreds\", \"learnToolsVersion\": \"0.3.4\", \"valueTowardsCompletion\": 0.0, \"failureMessage\": \"\", \"exceptionClass\": \"\", \"trace\": \"\", \"outcomeType\": 4}}, \"*\")"
      ],
      "text/plain": [
       "<IPython.core.display.Javascript object>"
      ]
     },
     "metadata": {},
     "output_type": "display_data"
    },
    {
     "data": {
      "text/markdown": [
       "<span style=\"color:#33cc99\">Solution:</span> \n",
       "```python\n",
       "val_predictions = iowa_model.predict(val_X)\n",
       "```"
      ],
      "text/plain": [
       "Solution: \n",
       "```python\n",
       "val_predictions = iowa_model.predict(val_X)\n",
       "```"
      ]
     },
     "metadata": {},
     "output_type": "display_data"
    }
   ],
   "source": [
    "step_3.hint()\n",
    "step_3.solution()"
   ]
  },
  {
   "cell_type": "markdown",
   "id": "86d2da45",
   "metadata": {
    "papermill": {
     "duration": 0.006722,
     "end_time": "2022-09-13T22:10:30.987205",
     "exception": false,
     "start_time": "2022-09-13T22:10:30.980483",
     "status": "completed"
    },
    "tags": []
   },
   "source": [
    "Inspect your predictions and actual values from validation data."
   ]
  },
  {
   "cell_type": "code",
   "execution_count": 8,
   "id": "1692ea47",
   "metadata": {
    "execution": {
     "iopub.execute_input": "2022-09-13T22:10:31.003165Z",
     "iopub.status.busy": "2022-09-13T22:10:31.002401Z",
     "iopub.status.idle": "2022-09-13T22:10:31.011651Z",
     "shell.execute_reply": "2022-09-13T22:10:31.010382Z"
    },
    "papermill": {
     "duration": 0.019947,
     "end_time": "2022-09-13T22:10:31.014037",
     "exception": false,
     "start_time": "2022-09-13T22:10:30.994090",
     "status": "completed"
    },
    "tags": []
   },
   "outputs": [
    {
     "name": "stdout",
     "output_type": "stream",
     "text": [
      "[186500. 184000. 130000.  92000. 164500.]\n",
      "[231500, 179500, 122000, 84500, 142000]\n"
     ]
    }
   ],
   "source": [
    "# print the top few validation predictions\n",
    "print(iowa_model.predict(val_X.head()))\n",
    "# print the top few actual prices from validation data\n",
    "print(val_y.head().tolist())"
   ]
  },
  {
   "cell_type": "markdown",
   "id": "8948dec5",
   "metadata": {
    "papermill": {
     "duration": 0.007297,
     "end_time": "2022-09-13T22:10:31.028249",
     "exception": false,
     "start_time": "2022-09-13T22:10:31.020952",
     "status": "completed"
    },
    "tags": []
   },
   "source": [
    "What do you notice that is different from what you saw with in-sample predictions (which are printed after the top code cell in this page).\n",
    "\n",
    "Do you remember why validation predictions differ from in-sample (or training) predictions? This is an important idea from the last lesson.\n",
    "\n",
    "## Step 4: Calculate the Mean Absolute Error in Validation Data\n"
   ]
  },
  {
   "cell_type": "code",
   "execution_count": 9,
   "id": "bfa938ff",
   "metadata": {
    "execution": {
     "iopub.execute_input": "2022-09-13T22:10:31.043998Z",
     "iopub.status.busy": "2022-09-13T22:10:31.043026Z",
     "iopub.status.idle": "2022-09-13T22:10:31.055391Z",
     "shell.execute_reply": "2022-09-13T22:10:31.054081Z"
    },
    "papermill": {
     "duration": 0.022779,
     "end_time": "2022-09-13T22:10:31.057819",
     "exception": false,
     "start_time": "2022-09-13T22:10:31.035040",
     "status": "completed"
    },
    "tags": []
   },
   "outputs": [
    {
     "name": "stdout",
     "output_type": "stream",
     "text": [
      "29652.931506849316\n"
     ]
    },
    {
     "data": {
      "application/javascript": [
       "parent.postMessage({\"jupyterEvent\": \"custom.exercise_interaction\", \"data\": {\"outcomeType\": 1, \"valueTowardsCompletion\": 0.25, \"interactionType\": 1, \"questionType\": 1, \"questionId\": \"4_MAE\", \"learnToolsVersion\": \"0.3.4\", \"failureMessage\": \"\", \"exceptionClass\": \"\", \"trace\": \"\"}}, \"*\")"
      ],
      "text/plain": [
       "<IPython.core.display.Javascript object>"
      ]
     },
     "metadata": {},
     "output_type": "display_data"
    },
    {
     "data": {
      "text/markdown": [
       "<span style=\"color:#33cc33\">Correct</span>"
      ],
      "text/plain": [
       "Correct"
      ]
     },
     "metadata": {},
     "output_type": "display_data"
    }
   ],
   "source": [
    "from sklearn.metrics import mean_absolute_error\n",
    "val_mae = mean_absolute_error(val_y,val_predictions)\n",
    "\n",
    "# uncomment following line to see the validation_mae\n",
    "print(val_mae)\n",
    "\n",
    "# Check your answer\n",
    "step_4.check()"
   ]
  },
  {
   "cell_type": "code",
   "execution_count": 10,
   "id": "e64be42b",
   "metadata": {
    "execution": {
     "iopub.execute_input": "2022-09-13T22:10:31.074609Z",
     "iopub.status.busy": "2022-09-13T22:10:31.074168Z",
     "iopub.status.idle": "2022-09-13T22:10:31.086617Z",
     "shell.execute_reply": "2022-09-13T22:10:31.085544Z"
    },
    "papermill": {
     "duration": 0.023454,
     "end_time": "2022-09-13T22:10:31.088649",
     "exception": false,
     "start_time": "2022-09-13T22:10:31.065195",
     "status": "completed"
    },
    "tags": []
   },
   "outputs": [
    {
     "data": {
      "application/javascript": [
       "parent.postMessage({\"jupyterEvent\": \"custom.exercise_interaction\", \"data\": {\"interactionType\": 2, \"questionType\": 1, \"questionId\": \"4_MAE\", \"learnToolsVersion\": \"0.3.4\", \"valueTowardsCompletion\": 0.0, \"failureMessage\": \"\", \"exceptionClass\": \"\", \"trace\": \"\", \"outcomeType\": 4}}, \"*\")"
      ],
      "text/plain": [
       "<IPython.core.display.Javascript object>"
      ]
     },
     "metadata": {},
     "output_type": "display_data"
    },
    {
     "data": {
      "text/markdown": [
       "<span style=\"color:#3366cc\">Hint:</span> The order of arguments to mean_absolute_error doesn't matter. Make sure you fit to only the training data in step 2."
      ],
      "text/plain": [
       "Hint: The order of arguments to mean_absolute_error doesn't matter. Make sure you fit to only the training data in step 2."
      ]
     },
     "metadata": {},
     "output_type": "display_data"
    },
    {
     "data": {
      "application/javascript": [
       "parent.postMessage({\"jupyterEvent\": \"custom.exercise_interaction\", \"data\": {\"interactionType\": 3, \"questionType\": 1, \"questionId\": \"4_MAE\", \"learnToolsVersion\": \"0.3.4\", \"valueTowardsCompletion\": 0.0, \"failureMessage\": \"\", \"exceptionClass\": \"\", \"trace\": \"\", \"outcomeType\": 4}}, \"*\")"
      ],
      "text/plain": [
       "<IPython.core.display.Javascript object>"
      ]
     },
     "metadata": {},
     "output_type": "display_data"
    },
    {
     "data": {
      "text/markdown": [
       "<span style=\"color:#33cc99\">Solution:</span> \n",
       "```python\n",
       "val_mae = mean_absolute_error(val_y, val_predictions)\n",
       "```"
      ],
      "text/plain": [
       "Solution: \n",
       "```python\n",
       "val_mae = mean_absolute_error(val_y, val_predictions)\n",
       "```"
      ]
     },
     "metadata": {},
     "output_type": "display_data"
    }
   ],
   "source": [
    "step_4.hint()\n",
    "step_4.solution()"
   ]
  },
  {
   "cell_type": "markdown",
   "id": "111352a4",
   "metadata": {
    "papermill": {
     "duration": 0.007353,
     "end_time": "2022-09-13T22:10:31.103597",
     "exception": false,
     "start_time": "2022-09-13T22:10:31.096244",
     "status": "completed"
    },
    "tags": []
   },
   "source": [
    "Is that MAE good?  There isn't a general rule for what values are good that applies across applications. But you'll see how to use (and improve) this number in the next step.\n",
    "\n",
    "# Keep Going\n",
    "\n",
    "You are ready for **[Underfitting and Overfitting](https://www.kaggle.com/dansbecker/underfitting-and-overfitting).**\n"
   ]
  },
  {
   "cell_type": "markdown",
   "id": "f06a074b",
   "metadata": {
    "papermill": {
     "duration": 0.007343,
     "end_time": "2022-09-13T22:10:31.118541",
     "exception": false,
     "start_time": "2022-09-13T22:10:31.111198",
     "status": "completed"
    },
    "tags": []
   },
   "source": [
    "---\n",
    "\n",
    "\n",
    "\n",
    "\n",
    "*Have questions or comments? Visit the [course discussion forum](https://www.kaggle.com/learn/intro-to-machine-learning/discussion) to chat with other learners.*"
   ]
  }
 ],
 "metadata": {
  "kernelspec": {
   "display_name": "Python 3",
   "language": "python",
   "name": "python3"
  },
  "language_info": {
   "codemirror_mode": {
    "name": "ipython",
    "version": 3
   },
   "file_extension": ".py",
   "mimetype": "text/x-python",
   "name": "python",
   "nbconvert_exporter": "python",
   "pygments_lexer": "ipython3",
   "version": "3.7.12"
  },
  "papermill": {
   "default_parameters": {},
   "duration": 11.90659,
   "end_time": "2022-09-13T22:10:31.848610",
   "environment_variables": {},
   "exception": null,
   "input_path": "__notebook__.ipynb",
   "output_path": "__notebook__.ipynb",
   "parameters": {},
   "start_time": "2022-09-13T22:10:19.942020",
   "version": "2.3.4"
  }
 },
 "nbformat": 4,
 "nbformat_minor": 5
}
