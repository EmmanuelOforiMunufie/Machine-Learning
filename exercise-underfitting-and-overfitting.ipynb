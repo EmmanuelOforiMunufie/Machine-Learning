{
 "cells": [
  {
   "cell_type": "markdown",
   "id": "6f413808",
   "metadata": {
    "papermill": {
     "duration": 0.005107,
     "end_time": "2022-09-14T21:19:12.297656",
     "exception": false,
     "start_time": "2022-09-14T21:19:12.292549",
     "status": "completed"
    },
    "tags": []
   },
   "source": [
    "**This notebook is an exercise in the [Introduction to Machine Learning](https://www.kaggle.com/learn/intro-to-machine-learning) course.  You can reference the tutorial at [this link](https://www.kaggle.com/dansbecker/underfitting-and-overfitting).**\n",
    "\n",
    "---\n"
   ]
  },
  {
   "cell_type": "markdown",
   "id": "04fa51de",
   "metadata": {
    "papermill": {
     "duration": 0.003584,
     "end_time": "2022-09-14T21:19:12.305713",
     "exception": false,
     "start_time": "2022-09-14T21:19:12.302129",
     "status": "completed"
    },
    "tags": []
   },
   "source": [
    "## Recap\n",
    "You've built your first model, and now it's time to optimize the size of the tree to make better predictions. Run this cell to set up your coding environment where the previous step left off."
   ]
  },
  {
   "cell_type": "code",
   "execution_count": 1,
   "id": "63ea95b6",
   "metadata": {
    "execution": {
     "iopub.execute_input": "2022-09-14T21:19:12.315879Z",
     "iopub.status.busy": "2022-09-14T21:19:12.315387Z",
     "iopub.status.idle": "2022-09-14T21:19:13.770679Z",
     "shell.execute_reply": "2022-09-14T21:19:13.769460Z"
    },
    "papermill": {
     "duration": 1.464903,
     "end_time": "2022-09-14T21:19:13.774599",
     "exception": false,
     "start_time": "2022-09-14T21:19:12.309696",
     "status": "completed"
    },
    "tags": []
   },
   "outputs": [
    {
     "name": "stdout",
     "output_type": "stream",
     "text": [
      "Validation MAE: 29,653\n",
      "\n",
      "Setup complete\n"
     ]
    }
   ],
   "source": [
    "# Code you have previously used to load data\n",
    "import pandas as pd\n",
    "from sklearn.metrics import mean_absolute_error\n",
    "from sklearn.model_selection import train_test_split\n",
    "from sklearn.tree import DecisionTreeRegressor\n",
    "\n",
    "\n",
    "# Path of the file to read\n",
    "iowa_file_path = '../input/home-data-for-ml-course/train.csv'\n",
    "\n",
    "home_data = pd.read_csv(iowa_file_path)\n",
    "# Create target object and call it y\n",
    "y = home_data.SalePrice\n",
    "# Create X\n",
    "features = ['LotArea', 'YearBuilt', '1stFlrSF', '2ndFlrSF', 'FullBath', 'BedroomAbvGr', 'TotRmsAbvGrd']\n",
    "X = home_data[features]\n",
    "\n",
    "# Split into validation and training data\n",
    "train_X, val_X, train_y, val_y = train_test_split(X, y, random_state=1)\n",
    "\n",
    "# Specify Model\n",
    "iowa_model = DecisionTreeRegressor(random_state=1)\n",
    "# Fit Model\n",
    "iowa_model.fit(train_X, train_y)\n",
    "\n",
    "# Make validation predictions and calculate mean absolute error\n",
    "val_predictions = iowa_model.predict(val_X)\n",
    "val_mae = mean_absolute_error(val_predictions, val_y)\n",
    "print(\"Validation MAE: {:,.0f}\".format(val_mae))\n",
    "\n",
    "# Set up code checking\n",
    "from learntools.core import binder\n",
    "binder.bind(globals())\n",
    "from learntools.machine_learning.ex5 import *\n",
    "print(\"\\nSetup complete\")"
   ]
  },
  {
   "cell_type": "markdown",
   "id": "2bce4144",
   "metadata": {
    "papermill": {
     "duration": 0.003719,
     "end_time": "2022-09-14T21:19:13.782730",
     "exception": false,
     "start_time": "2022-09-14T21:19:13.779011",
     "status": "completed"
    },
    "tags": []
   },
   "source": [
    "# Exercises\n",
    "You could write the function `get_mae` yourself. For now, we'll supply it. This is the same function you read about in the previous lesson. Just run the cell below."
   ]
  },
  {
   "cell_type": "code",
   "execution_count": 2,
   "id": "694b6d33",
   "metadata": {
    "execution": {
     "iopub.execute_input": "2022-09-14T21:19:13.792545Z",
     "iopub.status.busy": "2022-09-14T21:19:13.792061Z",
     "iopub.status.idle": "2022-09-14T21:19:13.797978Z",
     "shell.execute_reply": "2022-09-14T21:19:13.796817Z"
    },
    "papermill": {
     "duration": 0.013533,
     "end_time": "2022-09-14T21:19:13.800314",
     "exception": false,
     "start_time": "2022-09-14T21:19:13.786781",
     "status": "completed"
    },
    "tags": []
   },
   "outputs": [],
   "source": [
    "def get_mae(max_leaf_nodes, train_X, val_X, train_y, val_y):\n",
    "    model = DecisionTreeRegressor(max_leaf_nodes=max_leaf_nodes, random_state=0)\n",
    "    model.fit(train_X, train_y)\n",
    "    preds_val = model.predict(val_X)\n",
    "    mae = mean_absolute_error(val_y, preds_val)\n",
    "    return(mae)"
   ]
  },
  {
   "cell_type": "markdown",
   "id": "fe3c0c5a",
   "metadata": {
    "papermill": {
     "duration": 0.003269,
     "end_time": "2022-09-14T21:19:13.807373",
     "exception": false,
     "start_time": "2022-09-14T21:19:13.804104",
     "status": "completed"
    },
    "tags": []
   },
   "source": [
    "## Step 1: Compare Different Tree Sizes\n",
    "Write a loop that tries the following values for *max_leaf_nodes* from a set of possible values.\n",
    "\n",
    "Call the *get_mae* function on each value of max_leaf_nodes. Store the output in some way that allows you to select the value of `max_leaf_nodes` that gives the most accurate model on your data."
   ]
  },
  {
   "cell_type": "code",
   "execution_count": 3,
   "id": "9ce31a39",
   "metadata": {
    "execution": {
     "iopub.execute_input": "2022-09-14T21:19:13.816949Z",
     "iopub.status.busy": "2022-09-14T21:19:13.816028Z",
     "iopub.status.idle": "2022-09-14T21:19:13.861229Z",
     "shell.execute_reply": "2022-09-14T21:19:13.860021Z"
    },
    "papermill": {
     "duration": 0.052743,
     "end_time": "2022-09-14T21:19:13.863701",
     "exception": false,
     "start_time": "2022-09-14T21:19:13.810958",
     "status": "completed"
    },
    "tags": []
   },
   "outputs": [
    {
     "name": "stdout",
     "output_type": "stream",
     "text": [
      "{5: 35044.51299744237, 25: 29016.41319191076, 50: 27405.930473214907, 100: 27282.50803885739, 250: 27893.822225701646, 500: 29454.18598068598}\n"
     ]
    }
   ],
   "source": [
    "candidate_max_leaf_nodes = [5, 25, 50, 100, 250, 500]\n",
    "# Write loop to find the ideal tree size from candidate_max_leaf_nodes\n",
    "scores = {leaf_size: get_mae(leaf_size, train_X, val_X, train_y, val_y) for leaf_size in candidate_max_leaf_nodes}\n",
    "print(scores)    \n",
    "\n",
    "# Store the best value of max_leaf_nodes (it will be either 5, 25, 50, 100, 250 or 500)\n",
    "best_tree_size = min(scores, key=scores.get)\n",
    "\n",
    "# Check your answer\n",
    "#step_1.check()"
   ]
  },
  {
   "cell_type": "code",
   "execution_count": 4,
   "id": "7b5215e0",
   "metadata": {
    "execution": {
     "iopub.execute_input": "2022-09-14T21:19:13.873276Z",
     "iopub.status.busy": "2022-09-14T21:19:13.872124Z",
     "iopub.status.idle": "2022-09-14T21:19:13.877638Z",
     "shell.execute_reply": "2022-09-14T21:19:13.876522Z"
    },
    "papermill": {
     "duration": 0.01265,
     "end_time": "2022-09-14T21:19:13.879928",
     "exception": false,
     "start_time": "2022-09-14T21:19:13.867278",
     "status": "completed"
    },
    "tags": []
   },
   "outputs": [],
   "source": [
    "# The lines below will show you a hint or the solution.\n",
    "#step_1.hint() \n",
    "#step_1.solution()"
   ]
  },
  {
   "cell_type": "markdown",
   "id": "9d755a14",
   "metadata": {
    "papermill": {
     "duration": 0.003398,
     "end_time": "2022-09-14T21:19:13.887039",
     "exception": false,
     "start_time": "2022-09-14T21:19:13.883641",
     "status": "completed"
    },
    "tags": []
   },
   "source": [
    "## Step 2: Fit Model Using All Data\n",
    "You know the best tree size. If you were going to deploy this model in practice, you would make it even more accurate by using all of the data and keeping that tree size.  That is, you don't need to hold out the validation data now that you've made all your modeling decisions."
   ]
  },
  {
   "cell_type": "code",
   "execution_count": 5,
   "id": "c9dde542",
   "metadata": {
    "execution": {
     "iopub.execute_input": "2022-09-14T21:19:13.896986Z",
     "iopub.status.busy": "2022-09-14T21:19:13.895888Z",
     "iopub.status.idle": "2022-09-14T21:19:13.919464Z",
     "shell.execute_reply": "2022-09-14T21:19:13.917916Z"
    },
    "papermill": {
     "duration": 0.03116,
     "end_time": "2022-09-14T21:19:13.921850",
     "exception": false,
     "start_time": "2022-09-14T21:19:13.890690",
     "status": "completed"
    },
    "tags": []
   },
   "outputs": [
    {
     "data": {
      "application/javascript": [
       "parent.postMessage({\"jupyterEvent\": \"custom.exercise_interaction\", \"data\": {\"outcomeType\": 1, \"valueTowardsCompletion\": 0.5, \"interactionType\": 1, \"questionType\": 2, \"questionId\": \"2_FitModelWithAllData\", \"learnToolsVersion\": \"0.3.4\", \"failureMessage\": \"\", \"exceptionClass\": \"\", \"trace\": \"\"}}, \"*\")"
      ],
      "text/plain": [
       "<IPython.core.display.Javascript object>"
      ]
     },
     "metadata": {},
     "output_type": "display_data"
    },
    {
     "data": {
      "text/markdown": [
       "<span style=\"color:#33cc33\">Correct</span>"
      ],
      "text/plain": [
       "Correct"
      ]
     },
     "metadata": {},
     "output_type": "display_data"
    }
   ],
   "source": [
    "# Fill in argument to make optimal size and uncomment\n",
    "final_model = DecisionTreeRegressor(max_leaf_nodes=best_tree_size, random_state=1)\n",
    "\n",
    "# fit the final model and uncomment the next two lines\n",
    "final_model.fit(X,y)\n",
    "\n",
    "# Check your answer\n",
    "step_2.check()"
   ]
  },
  {
   "cell_type": "code",
   "execution_count": 6,
   "id": "8acc383f",
   "metadata": {
    "execution": {
     "iopub.execute_input": "2022-09-14T21:19:13.932846Z",
     "iopub.status.busy": "2022-09-14T21:19:13.931442Z",
     "iopub.status.idle": "2022-09-14T21:19:13.937594Z",
     "shell.execute_reply": "2022-09-14T21:19:13.936092Z"
    },
    "papermill": {
     "duration": 0.014411,
     "end_time": "2022-09-14T21:19:13.940201",
     "exception": false,
     "start_time": "2022-09-14T21:19:13.925790",
     "status": "completed"
    },
    "tags": []
   },
   "outputs": [],
   "source": [
    "#step_2.hint()\n",
    "#step_2.solution()"
   ]
  },
  {
   "cell_type": "markdown",
   "id": "4e7b02ed",
   "metadata": {
    "papermill": {
     "duration": 0.003743,
     "end_time": "2022-09-14T21:19:13.948015",
     "exception": false,
     "start_time": "2022-09-14T21:19:13.944272",
     "status": "completed"
    },
    "tags": []
   },
   "source": [
    "You've tuned this model and improved your results. But we are still using Decision Tree models, which are not very sophisticated by modern machine learning standards. In the next step you will learn to use Random Forests to improve your models even more.\n",
    "\n",
    "# Keep Going\n",
    "\n",
    "You are ready for **[Random Forests](https://www.kaggle.com/dansbecker/random-forests).**\n"
   ]
  },
  {
   "cell_type": "markdown",
   "id": "548b412d",
   "metadata": {
    "papermill": {
     "duration": 0.003526,
     "end_time": "2022-09-14T21:19:13.955697",
     "exception": false,
     "start_time": "2022-09-14T21:19:13.952171",
     "status": "completed"
    },
    "tags": []
   },
   "source": [
    "---\n",
    "\n",
    "\n",
    "\n",
    "\n",
    "*Have questions or comments? Visit the [course discussion forum](https://www.kaggle.com/learn/intro-to-machine-learning/discussion) to chat with other learners.*"
   ]
  }
 ],
 "metadata": {
  "kernelspec": {
   "display_name": "Python 3",
   "language": "python",
   "name": "python3"
  },
  "language_info": {
   "codemirror_mode": {
    "name": "ipython",
    "version": 3
   },
   "file_extension": ".py",
   "mimetype": "text/x-python",
   "name": "python",
   "nbconvert_exporter": "python",
   "pygments_lexer": "ipython3",
   "version": "3.7.12"
  },
  "papermill": {
   "default_parameters": {},
   "duration": 13.310297,
   "end_time": "2022-09-14T21:19:14.784275",
   "environment_variables": {},
   "exception": null,
   "input_path": "__notebook__.ipynb",
   "output_path": "__notebook__.ipynb",
   "parameters": {},
   "start_time": "2022-09-14T21:19:01.473978",
   "version": "2.3.4"
  }
 },
 "nbformat": 4,
 "nbformat_minor": 5
}
